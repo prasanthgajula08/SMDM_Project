{
 "cells": [
  {
   "cell_type": "markdown",
   "metadata": {},
   "source": [
    "### Packages and modules"
   ]
  },
  {
   "cell_type": "code",
   "execution_count": 351,
   "metadata": {},
   "outputs": [],
   "source": [
    "import os\n",
    "import pandas as pd\n",
    "import numpy as np\n",
    "import matplotlib.pyplot as plt\n",
    "import seaborn as sns\n",
    "import scipy.stats as stats\n",
    "import warnings\n",
    "warnings.filterwarnings('ignore')\n",
    "import statsmodels.api as sm\n",
    "from statsmodels.formula.api import ols\n",
    "from vaderSentiment.vaderSentiment import SentimentIntensityAnalyzer\n",
    "import numpy as np\n",
    "from sklearn.metrics import accuracy_score\n",
    "from afinn import Afinn\n",
    "from textblob import TextBlob\n",
    "from sklearn.model_selection import train_test_split"
   ]
  },
  {
   "cell_type": "code",
   "execution_count": 352,
   "metadata": {},
   "outputs": [],
   "source": [
    "#Read the data file\n",
    "data = pd.read_excel('Ave_endGame1.xlsx')"
   ]
  },
  {
   "cell_type": "code",
   "execution_count": 353,
   "metadata": {},
   "outputs": [
    {
     "data": {
      "text/html": [
       "<div>\n",
       "<style scoped>\n",
       "    .dataframe tbody tr th:only-of-type {\n",
       "        vertical-align: middle;\n",
       "    }\n",
       "\n",
       "    .dataframe tbody tr th {\n",
       "        vertical-align: top;\n",
       "    }\n",
       "\n",
       "    .dataframe thead th {\n",
       "        text-align: right;\n",
       "    }\n",
       "</style>\n",
       "<table border=\"1\" class=\"dataframe\">\n",
       "  <thead>\n",
       "    <tr style=\"text-align: right;\">\n",
       "      <th></th>\n",
       "      <th>Unnamed: 0</th>\n",
       "      <th>Datetime</th>\n",
       "      <th>Tweet</th>\n",
       "      <th>ID</th>\n",
       "      <th>likes_count</th>\n",
       "      <th>Username</th>\n",
       "      <th>verified</th>\n",
       "      <th>followers</th>\n",
       "      <th>friends</th>\n",
       "      <th>favourites</th>\n",
       "      <th>statuses</th>\n",
       "      <th>location</th>\n",
       "    </tr>\n",
       "  </thead>\n",
       "  <tbody>\n",
       "    <tr>\n",
       "      <th>0</th>\n",
       "      <td>0</td>\n",
       "      <td>2021-05-02 15:28:46+00:00</td>\n",
       "      <td>Love Rosie\\nWhite Chicks\\nAvengers: Endgame\\nS...</td>\n",
       "      <td>1388878138097070080</td>\n",
       "      <td>0</td>\n",
       "      <td>pit</td>\n",
       "      <td>False</td>\n",
       "      <td>3522</td>\n",
       "      <td>417</td>\n",
       "      <td>45690</td>\n",
       "      <td>51511</td>\n",
       "      <td>Malaysia</td>\n",
       "    </tr>\n",
       "    <tr>\n",
       "      <th>1</th>\n",
       "      <td>1</td>\n",
       "      <td>2021-05-02 15:27:18+00:00</td>\n",
       "      <td>@tacticaldipshit Avengers endgame probably</td>\n",
       "      <td>1388877768864049920</td>\n",
       "      <td>0</td>\n",
       "      <td>B1ackHeart</td>\n",
       "      <td>False</td>\n",
       "      <td>51</td>\n",
       "      <td>191</td>\n",
       "      <td>2641</td>\n",
       "      <td>1138</td>\n",
       "      <td>NaN</td>\n",
       "    </tr>\n",
       "    <tr>\n",
       "      <th>2</th>\n",
       "      <td>2</td>\n",
       "      <td>2021-05-02 15:25:04+00:00</td>\n",
       "      <td>Titanic ? Avengers Endgame ? ðŸ¤”ðŸ¤” https://...</td>\n",
       "      <td>1388877203367239936</td>\n",
       "      <td>0</td>\n",
       "      <td>Eren</td>\n",
       "      <td>False</td>\n",
       "      <td>87</td>\n",
       "      <td>97</td>\n",
       "      <td>1112</td>\n",
       "      <td>23655</td>\n",
       "      <td>Paris, France</td>\n",
       "    </tr>\n",
       "    <tr>\n",
       "      <th>3</th>\n",
       "      <td>3</td>\n",
       "      <td>2021-05-02 15:22:23+00:00</td>\n",
       "      <td>23 years ago, the Battle of Hogwarts took plac...</td>\n",
       "      <td>1388876530999300096</td>\n",
       "      <td>0</td>\n",
       "      <td>Maria Manovski</td>\n",
       "      <td>False</td>\n",
       "      <td>233</td>\n",
       "      <td>3121</td>\n",
       "      <td>17180</td>\n",
       "      <td>4581</td>\n",
       "      <td>Detroit, MI</td>\n",
       "    </tr>\n",
       "    <tr>\n",
       "      <th>4</th>\n",
       "      <td>4</td>\n",
       "      <td>2021-05-02 15:22:21+00:00</td>\n",
       "      <td>||: quick reminder that those two Avengers sca...</td>\n",
       "      <td>1388876521041959936</td>\n",
       "      <td>17</td>\n",
       "      <td>â€” WANDA MAXIMOFF á—¢</td>\n",
       "      <td>False</td>\n",
       "      <td>4064</td>\n",
       "      <td>4513</td>\n",
       "      <td>27259</td>\n",
       "      <td>12586</td>\n",
       "      <td>NaN</td>\n",
       "    </tr>\n",
       "    <tr>\n",
       "      <th>5</th>\n",
       "      <td>5</td>\n",
       "      <td>2021-05-02 15:20:11+00:00</td>\n",
       "      <td>Avengers Infinity War\\nInception\\nAvengers End...</td>\n",
       "      <td>1388875977179150080</td>\n",
       "      <td>2</td>\n",
       "      <td>Daredevil (Ø³Ø§Ø³Ù¾Ù†Ø¯ Ø´Ø¯ Farnam)</td>\n",
       "      <td>False</td>\n",
       "      <td>113</td>\n",
       "      <td>276</td>\n",
       "      <td>12</td>\n",
       "      <td>886</td>\n",
       "      <td>NaN</td>\n",
       "    </tr>\n",
       "    <tr>\n",
       "      <th>6</th>\n",
       "      <td>6</td>\n",
       "      <td>2021-05-02 15:16:02+00:00</td>\n",
       "      <td>SUNDAY SHELFIES \\n\\nAvengers: Endgame came out...</td>\n",
       "      <td>1388874930318560000</td>\n",
       "      <td>1</td>\n",
       "      <td>ðŸ¤ª playing_with_myself ðŸ§</td>\n",
       "      <td>False</td>\n",
       "      <td>244</td>\n",
       "      <td>269</td>\n",
       "      <td>2851</td>\n",
       "      <td>491</td>\n",
       "      <td>Los Angeles, CA</td>\n",
       "    </tr>\n",
       "    <tr>\n",
       "      <th>7</th>\n",
       "      <td>7</td>\n",
       "      <td>2021-05-02 15:14:29+00:00</td>\n",
       "      <td>avengers : endgame could have been an email</td>\n",
       "      <td>1388874543419229952</td>\n",
       "      <td>4</td>\n",
       "      <td>ilian âœª</td>\n",
       "      <td>False</td>\n",
       "      <td>1172</td>\n",
       "      <td>775</td>\n",
       "      <td>15297</td>\n",
       "      <td>2608</td>\n",
       "      <td>he &amp; him â€¢ sixteen</td>\n",
       "    </tr>\n",
       "    <tr>\n",
       "      <th>8</th>\n",
       "      <td>8</td>\n",
       "      <td>2021-05-02 15:12:06+00:00</td>\n",
       "      <td>@DanaSchwartzzz Just imagine,  \"I was enjoying...</td>\n",
       "      <td>1388873942287399936</td>\n",
       "      <td>0</td>\n",
       "      <td>Bruno Felipe Silva</td>\n",
       "      <td>False</td>\n",
       "      <td>93</td>\n",
       "      <td>239</td>\n",
       "      <td>13525</td>\n",
       "      <td>12589</td>\n",
       "      <td>Natal</td>\n",
       "    </tr>\n",
       "    <tr>\n",
       "      <th>9</th>\n",
       "      <td>9</td>\n",
       "      <td>2021-05-02 15:10:03+00:00</td>\n",
       "      <td>\"Thanos Was Right\" T-Shirts  @TeePublic \\nâ €\\...</td>\n",
       "      <td>1388873424592849920</td>\n",
       "      <td>0</td>\n",
       "      <td>UNIVERSE31 aka CINE31</td>\n",
       "      <td>False</td>\n",
       "      <td>1525</td>\n",
       "      <td>4985</td>\n",
       "      <td>15380</td>\n",
       "      <td>79842</td>\n",
       "      <td>OlhÃ£o - Portugal</td>\n",
       "    </tr>\n",
       "  </tbody>\n",
       "</table>\n",
       "</div>"
      ],
      "text/plain": [
       "   Unnamed: 0                   Datetime  \\\n",
       "0           0  2021-05-02 15:28:46+00:00   \n",
       "1           1  2021-05-02 15:27:18+00:00   \n",
       "2           2  2021-05-02 15:25:04+00:00   \n",
       "3           3  2021-05-02 15:22:23+00:00   \n",
       "4           4  2021-05-02 15:22:21+00:00   \n",
       "5           5  2021-05-02 15:20:11+00:00   \n",
       "6           6  2021-05-02 15:16:02+00:00   \n",
       "7           7  2021-05-02 15:14:29+00:00   \n",
       "8           8  2021-05-02 15:12:06+00:00   \n",
       "9           9  2021-05-02 15:10:03+00:00   \n",
       "\n",
       "                                               Tweet                   ID  \\\n",
       "0  Love Rosie\\nWhite Chicks\\nAvengers: Endgame\\nS...  1388878138097070080   \n",
       "1         @tacticaldipshit Avengers endgame probably  1388877768864049920   \n",
       "2  Titanic ? Avengers Endgame ? ðŸ¤”ðŸ¤” https://...  1388877203367239936   \n",
       "3  23 years ago, the Battle of Hogwarts took plac...  1388876530999300096   \n",
       "4  ||: quick reminder that those two Avengers sca...  1388876521041959936   \n",
       "5  Avengers Infinity War\\nInception\\nAvengers End...  1388875977179150080   \n",
       "6  SUNDAY SHELFIES \\n\\nAvengers: Endgame came out...  1388874930318560000   \n",
       "7        avengers : endgame could have been an email  1388874543419229952   \n",
       "8  @DanaSchwartzzz Just imagine,  \"I was enjoying...  1388873942287399936   \n",
       "9  \"Thanos Was Right\" T-Shirts  @TeePublic \\nâ €\\...  1388873424592849920   \n",
       "\n",
       "   likes_count                              Username verified  followers  \\\n",
       "0            0                                   pit    False       3522   \n",
       "1            0                            B1ackHeart    False         51   \n",
       "2            0                                  Eren    False         87   \n",
       "3            0                        Maria Manovski    False        233   \n",
       "4           17                â€” WANDA MAXIMOFF á—¢    False       4064   \n",
       "5            2  Daredevil (Ø³Ø§Ø³Ù¾Ù†Ø¯ Ø´Ø¯ Farnam)    False        113   \n",
       "6            1         ðŸ¤ª playing_with_myself ðŸ§    False        244   \n",
       "7            4                             ilian âœª    False       1172   \n",
       "8            0                    Bruno Felipe Silva    False         93   \n",
       "9            0                 UNIVERSE31 aka CINE31    False       1525   \n",
       "\n",
       "   friends  favourites  statuses               location  \n",
       "0      417       45690     51511               Malaysia  \n",
       "1      191        2641      1138                    NaN  \n",
       "2       97        1112     23655          Paris, France  \n",
       "3     3121       17180      4581            Detroit, MI  \n",
       "4     4513       27259     12586                    NaN  \n",
       "5      276          12       886                    NaN  \n",
       "6      269        2851       491        Los Angeles, CA  \n",
       "7      775       15297      2608  he & him â€¢ sixteen   \n",
       "8      239       13525     12589                  Natal  \n",
       "9     4985       15380     79842      OlhÃ£o - Portugal  "
      ]
     },
     "execution_count": 353,
     "metadata": {},
     "output_type": "execute_result"
    }
   ],
   "source": [
    "#Display first 10 rows\n",
    "data.head(10)"
   ]
  },
  {
   "cell_type": "code",
   "execution_count": 354,
   "metadata": {},
   "outputs": [],
   "source": [
    "#Sort the data in desending order based on likes count.\n",
    "data.sort_values([\"likes_count\"], axis=0,\n",
    "                 ascending=False, inplace=True)"
   ]
  },
  {
   "cell_type": "code",
   "execution_count": 355,
   "metadata": {},
   "outputs": [
    {
     "name": "stdout",
     "output_type": "stream",
     "text": [
      "<class 'pandas.core.frame.DataFrame'>\n",
      "Int64Index: 100001 entries, 71224 to 0\n",
      "Data columns (total 12 columns):\n",
      " #   Column       Non-Null Count   Dtype \n",
      "---  ------       --------------   ----- \n",
      " 0   Unnamed: 0   100001 non-null  int64 \n",
      " 1   Datetime     100001 non-null  object\n",
      " 2   Tweet        99987 non-null   object\n",
      " 3   ID           100001 non-null  int64 \n",
      " 4   likes_count  100001 non-null  int64 \n",
      " 5   Username     99987 non-null   object\n",
      " 6   verified     100001 non-null  object\n",
      " 7   followers    100001 non-null  int64 \n",
      " 8   friends      100001 non-null  int64 \n",
      " 9   favourites   100001 non-null  int64 \n",
      " 10  statuses     100001 non-null  int64 \n",
      " 11  location     71833 non-null   object\n",
      "dtypes: int64(7), object(5)\n",
      "memory usage: 9.9+ MB\n"
     ]
    }
   ],
   "source": [
    "#View datatypes\n",
    "data.info()"
   ]
  },
  {
   "cell_type": "markdown",
   "metadata": {},
   "source": [
    "## Data preprocessing"
   ]
  },
  {
   "cell_type": "markdown",
   "metadata": {},
   "source": [
    "### Missing value analysis"
   ]
  },
  {
   "cell_type": "code",
   "execution_count": 356,
   "metadata": {},
   "outputs": [
    {
     "data": {
      "text/html": [
       "<div>\n",
       "<style scoped>\n",
       "    .dataframe tbody tr th:only-of-type {\n",
       "        vertical-align: middle;\n",
       "    }\n",
       "\n",
       "    .dataframe tbody tr th {\n",
       "        vertical-align: top;\n",
       "    }\n",
       "\n",
       "    .dataframe thead th {\n",
       "        text-align: right;\n",
       "    }\n",
       "</style>\n",
       "<table border=\"1\" class=\"dataframe\">\n",
       "  <thead>\n",
       "    <tr style=\"text-align: right;\">\n",
       "      <th></th>\n",
       "      <th>Missing_percent</th>\n",
       "    </tr>\n",
       "  </thead>\n",
       "  <tbody>\n",
       "    <tr>\n",
       "      <th>Unnamed: 0</th>\n",
       "      <td>0.000000</td>\n",
       "    </tr>\n",
       "    <tr>\n",
       "      <th>Datetime</th>\n",
       "      <td>0.000000</td>\n",
       "    </tr>\n",
       "    <tr>\n",
       "      <th>Tweet</th>\n",
       "      <td>0.014000</td>\n",
       "    </tr>\n",
       "    <tr>\n",
       "      <th>ID</th>\n",
       "      <td>0.000000</td>\n",
       "    </tr>\n",
       "    <tr>\n",
       "      <th>likes_count</th>\n",
       "      <td>0.000000</td>\n",
       "    </tr>\n",
       "    <tr>\n",
       "      <th>Username</th>\n",
       "      <td>0.014000</td>\n",
       "    </tr>\n",
       "    <tr>\n",
       "      <th>verified</th>\n",
       "      <td>0.000000</td>\n",
       "    </tr>\n",
       "    <tr>\n",
       "      <th>followers</th>\n",
       "      <td>0.000000</td>\n",
       "    </tr>\n",
       "    <tr>\n",
       "      <th>friends</th>\n",
       "      <td>0.000000</td>\n",
       "    </tr>\n",
       "    <tr>\n",
       "      <th>favourites</th>\n",
       "      <td>0.000000</td>\n",
       "    </tr>\n",
       "    <tr>\n",
       "      <th>statuses</th>\n",
       "      <td>0.000000</td>\n",
       "    </tr>\n",
       "    <tr>\n",
       "      <th>location</th>\n",
       "      <td>28.167718</td>\n",
       "    </tr>\n",
       "  </tbody>\n",
       "</table>\n",
       "</div>"
      ],
      "text/plain": [
       "             Missing_percent\n",
       "Unnamed: 0          0.000000\n",
       "Datetime            0.000000\n",
       "Tweet               0.014000\n",
       "ID                  0.000000\n",
       "likes_count         0.000000\n",
       "Username            0.014000\n",
       "verified            0.000000\n",
       "followers           0.000000\n",
       "friends             0.000000\n",
       "favourites          0.000000\n",
       "statuses            0.000000\n",
       "location           28.167718"
      ]
     },
     "execution_count": 356,
     "metadata": {},
     "output_type": "execute_result"
    }
   ],
   "source": [
    "#MISSING VALUE ANALYSIS\n",
    "missing_val = pd.DataFrame(data.isnull().sum())\n",
    "missing_val = (missing_val/len(data))*100\n",
    "missing_val.reset_index()\n",
    "\n",
    "missing_val = missing_val.rename(columns = {'index': 'Variables', 0: 'Missing_percent'})\n",
    "missing_val"
   ]
  },
  {
   "cell_type": "code",
   "execution_count": 357,
   "metadata": {},
   "outputs": [
    {
     "name": "stdout",
     "output_type": "stream",
     "text": [
      "<class 'pandas.core.frame.DataFrame'>\n",
      "Int64Index: 99973 entries, 71224 to 0\n",
      "Data columns (total 12 columns):\n",
      " #   Column       Non-Null Count  Dtype \n",
      "---  ------       --------------  ----- \n",
      " 0   Unnamed: 0   99973 non-null  int64 \n",
      " 1   Datetime     99973 non-null  object\n",
      " 2   Tweet        99973 non-null  object\n",
      " 3   ID           99973 non-null  int64 \n",
      " 4   likes_count  99973 non-null  int64 \n",
      " 5   Username     99973 non-null  object\n",
      " 6   verified     99973 non-null  object\n",
      " 7   followers    99973 non-null  int64 \n",
      " 8   friends      99973 non-null  int64 \n",
      " 9   favourites   99973 non-null  int64 \n",
      " 10  statuses     99973 non-null  int64 \n",
      " 11  location     71812 non-null  object\n",
      "dtypes: int64(7), object(5)\n",
      "memory usage: 9.9+ MB\n"
     ]
    }
   ],
   "source": [
    "#DROP RECORDS WITH MISSING DATA IN THE COLUMNS.\n",
    "data=data.dropna(subset=['Tweet'])\n",
    "data=data.dropna(subset=['Username'])\n",
    "data.info()"
   ]
  },
  {
   "cell_type": "code",
   "execution_count": 358,
   "metadata": {},
   "outputs": [],
   "source": [
    "# NULL VALUE IMPUTATION FOR THE VARIABLE 'LOCATION' USING MODE METHOD.\n",
    "data = data.fillna(data['location'].value_counts().index[0])"
   ]
  },
  {
   "cell_type": "markdown",
   "metadata": {},
   "source": [
    "### Feature Engineering"
   ]
  },
  {
   "cell_type": "code",
   "execution_count": 359,
   "metadata": {},
   "outputs": [],
   "source": [
    "data['location']=data['location'].astype('category')\n",
    "data['verified']=data['verified'].astype('category') \n",
    "data['Datetime'] = pd.to_datetime(data['Datetime'])"
   ]
  },
  {
   "cell_type": "code",
   "execution_count": 360,
   "metadata": {},
   "outputs": [],
   "source": [
    "import datetime\n",
    "data['year'] = data['Datetime'].dt.year\n",
    "data['month'] = data['Datetime'].dt.month\n",
    "data['day'] = data['Datetime'].dt.day\n",
    "data['hour'] = data['Datetime'].dt.hour"
   ]
  },
  {
   "cell_type": "markdown",
   "metadata": {},
   "source": [
    "### Feature Selection using correlation test"
   ]
  },
  {
   "cell_type": "code",
   "execution_count": 361,
   "metadata": {
    "scrolled": true
   },
   "outputs": [
    {
     "data": {
      "text/plain": [
       "<AxesSubplot:>"
      ]
     },
     "execution_count": 361,
     "metadata": {},
     "output_type": "execute_result"
    },
    {
     "data": {
      "image/png": "[encoded data removed]",
      "text/plain": [
       "<Figure size 504x360 with 2 Axes>"
      ]
     },
     "metadata": {},
     "output_type": "display_data"
    }
   ],
   "source": [
    "cnames = ['followers','friends','statuses','favourites']\n",
    "corr = data.loc[:,cnames]\n",
    "#Set the width and hieght of the plot\n",
    "f, ax = plt.subplots(figsize=(7, 5))\n",
    "\n",
    "#Generate correlation matrix\n",
    "corr1 = corr.corr()\n",
    "\n",
    "#Plot using seaborn library\n",
    "sns.heatmap(corr1, mask=np.zeros_like(corr1, dtype=np.bool), cmap=sns.diverging_palette(220, 10, as_cmap=True),\n",
    "            square=True, ax=ax)"
   ]
  },
  {
   "cell_type": "code",
   "execution_count": 363,
   "metadata": {},
   "outputs": [],
   "source": [
    "# FINAL CSV FILE AFTER PREPROCESSING\n",
    "data.to_csv('Final_data.csv')"
   ]
  },
  {
   "cell_type": "code",
   "execution_count": 201,
   "metadata": {},
   "outputs": [],
   "source": [
    "data1 = pd.read_csv('Final_data.csv')"
   ]
  },
  {
   "cell_type": "markdown",
   "metadata": {},
   "source": [
    "## EXPLORATORY DATA ANALYSIS"
   ]
  },
  {
   "cell_type": "code",
   "execution_count": 364,
   "metadata": {},
   "outputs": [
    {
     "data": {
      "text/plain": [
       "65647"
      ]
     },
     "execution_count": 364,
     "metadata": {},
     "output_type": "execute_result"
    }
   ],
   "source": [
    "#unique users count\n",
    "len(pd.unique(data1[\"Username\"]))"
   ]
  },
  {
   "cell_type": "code",
   "execution_count": 365,
   "metadata": {},
   "outputs": [
    {
     "name": "stdout",
     "output_type": "stream",
     "text": [
      "Count of users with followers more than 50000 is-> 2610\n",
      "Count of users with Statuses more than 50000 is-> 17684\n",
      "Count of tweets with likes more than 50000 is-> 5\n"
     ]
    }
   ],
   "source": [
    "#count of users with followers more than 50000\n",
    "print(\"Count of users with followers more than 50000 is->\",\n",
    "      data1[data1['followers'] > 50000]['Username'].count())\n",
    "print(\"Count of users with Statuses more than 50000 is->\",\n",
    "      data1[data1['statuses'] > 50000]['Username'].count())\n",
    "print(\"Count of tweets with likes more than 50000 is->\",\n",
    "      data1[data1['likes_count'] > 50000]['Tweet'].count())"
   ]
  },
  {
   "cell_type": "code",
   "execution_count": 366,
   "metadata": {},
   "outputs": [
    {
     "data": {
      "text/plain": [
       "<AxesSubplot:title={'center':'Tweet counts'}, xlabel='Year', ylabel='Tweet Count'>"
      ]
     },
     "execution_count": 366,
     "metadata": {},
     "output_type": "execute_result"
    },
    {
     "data": {
      "image/png": "[encoded data removed]",
      "text/plain": [
       "<Figure size 432x288 with 1 Axes>"
      ]
     },
     "metadata": {},
     "output_type": "display_data"
    }
   ],
   "source": [
    "#BAR GRAPH SHOWING TWEET COUNTS \n",
    "plt.xlabel('Year')\n",
    "# naming the y axis\n",
    "plt.ylabel('Tweet Count')\n",
    "# giving a title to my graph\n",
    "plt.title('Tweet counts')\n",
    "data1['year'].value_counts().plot(kind='bar')"
   ]
  },
  {
   "cell_type": "code",
   "execution_count": 367,
   "metadata": {},
   "outputs": [
    {
     "name": "stdout",
     "output_type": "stream",
     "text": [
      "['0' '1']\n",
      "<class 'pandas.core.frame.DataFrame'>\n",
      "Int64Index: 99973 entries, 71224 to 0\n",
      "Data columns (total 16 columns):\n",
      " #   Column       Non-Null Count  Dtype              \n",
      "---  ------       --------------  -----              \n",
      " 0   Unnamed: 0   99973 non-null  int64              \n",
      " 1   Datetime     99973 non-null  datetime64[ns, UTC]\n",
      " 2   Tweet        99973 non-null  object             \n",
      " 3   ID           99973 non-null  int64              \n",
      " 4   likes_count  99973 non-null  int64              \n",
      " 5   Username     99973 non-null  object             \n",
      " 6   verified     99973 non-null  category           \n",
      " 7   followers    99973 non-null  int64              \n",
      " 8   friends      99973 non-null  int64              \n",
      " 9   favourites   99973 non-null  int64              \n",
      " 10  statuses     99973 non-null  int64              \n",
      " 11  location     99973 non-null  category           \n",
      " 12  year         99973 non-null  int64              \n",
      " 13  month        99973 non-null  int64              \n",
      " 14  day          99973 non-null  int64              \n",
      " 15  hour         99973 non-null  int64              \n",
      "dtypes: category(2), datetime64[ns, UTC](1), int64(11), object(2)\n",
      "memory usage: 13.2+ MB\n"
     ]
    }
   ],
   "source": [
    "#CONVERTING THE VALUES IN VERIFIED COLUMN FOR OUR CONVENIENCE.\n",
    "data1[\"verified\"].replace({\"True\": \"1\", \"False\": \"0\", True:'1', False: '0', ' ': '0'}, inplace=True)\n",
    "print (data1['verified'].unique())\n",
    "data.info()"
   ]
  },
  {
   "cell_type": "code",
   "execution_count": 368,
   "metadata": {},
   "outputs": [
    {
     "data": {
      "image/png": "[encoded data removed]",
      "text/plain": [
       "<Figure size 432x288 with 1 Axes>"
      ]
     },
     "metadata": {},
     "output_type": "display_data"
    }
   ],
   "source": [
    "#Pie chart between verified and non-verified\n",
    "data1['verified'].value_counts().plot(kind='pie',startangle=90,autopct='%1.1f%%',labels = ['not verified','verified'],textprops={'fontsize' : 12})\n",
    "plt.legend(loc=3,fontsize=10)\n",
    "plt.ylabel('')\n",
    "plt.title('Tweets count between verified and non-verified users',fontsize = 14)\n",
    "plt.axis('equal')\n",
    "\n",
    "#lt.subplots_adjust(wspace=4)\n",
    "plt.show()"
   ]
  },
  {
   "cell_type": "code",
   "execution_count": 371,
   "metadata": {},
   "outputs": [
    {
     "data": {
      "image/png": "[encoded data removed]",
      "text/plain": [
       "<Figure size 432x288 with 1 Axes>"
      ]
     },
     "metadata": {},
     "output_type": "display_data"
    }
   ],
   "source": [
    "#DOTTED LINE PLOT BETWEEN USERS AND LIKES FOR VERIFIED USERS\n",
    "data_new = data1[data1['verified'] == '1']\n",
    "data_new = data_new.head(5)\n",
    "n = 11\n",
    "x = data_new['likes_count']\n",
    "y = data_new['Username']\n",
    "\n",
    "ax = sns.lineplot(x,y)\n",
    "\n",
    "# Might need to loop through the list if there are multiple lines on the plot\n",
    "ax.lines[0].set_linestyle(\"--\")\n",
    "\n",
    "plt.show()\n",
    "#sns.lineplot(y=\"Username\", x=\"likes_count\", data=data_new)\n",
    "#plt.show()"
   ]
  },
  {
   "cell_type": "code",
   "execution_count": 372,
   "metadata": {},
   "outputs": [],
   "source": [
    "#Users with more friends\n",
    "s= []\n",
    "data_new1 = data2[data2['friends'] > 25000]\n",
    "#data_new1 = data_new1.head(15)\n",
    "s.append(data_new1['Username'].count())\n",
    "data_new1 = data2[data2['friends'] > 50000]\n",
    "#data_new1 = data_new1.head(15)\n",
    "s.append(data_new1['Username'].count())\n",
    "data_new1 = data2[data2['friends'] > 75000]\n",
    "#data_new1 = data_new1.head(15)\n",
    "s.append(data_new1['Username'].count())\n",
    "data_new1 = data2[data2['friends'] > 100000]\n",
    "#data_new1 = data_new1.head(15)\n",
    "s.append(data_new1['Username'].count())\n",
    "labs = ['>25000','>50000','>75000','>100000']"
   ]
  },
  {
   "cell_type": "code",
   "execution_count": 373,
   "metadata": {},
   "outputs": [
    {
     "data": {
      "image/png": "[encoded data removed]",
      "text/plain": [
       "<Figure size 432x288 with 1 Axes>"
      ]
     },
     "metadata": {},
     "output_type": "display_data"
    }
   ],
   "source": [
    "# PLOT BETWEEN FRIENDS COUNT RANGE AND COUNT OF USERS\n",
    "plt.plot(labs,s,'r')\n",
    "for x,y in zip(labs,s):\n",
    "\n",
    "    label = \"{:}\".format(y)\n",
    "\n",
    "    plt.annotate(label, # this is the text\n",
    "                 (x,y), # this is the point to label\n",
    "                 textcoords=\"offset points\", # how to position the text\n",
    "                 xytext=(5,10), # distance from text to points (x,y)\n",
    "                 ha='center') # horizontal alignment can be left, right or center\n",
    "plt.title('Count of users with the friends')\n",
    "plt.show()"
   ]
  },
  {
   "cell_type": "markdown",
   "metadata": {},
   "source": [
    "## Sentiment Analysis"
   ]
  },
  {
   "cell_type": "code",
   "execution_count": 374,
   "metadata": {},
   "outputs": [],
   "source": [
    "#IMPLEMENTED TEXTBLOB TO CATEGORIZE THE SENTIMENTS \n",
    "data1['Tweet']=data1['Tweet'].astype('string')\n",
    "#TextBlob\n",
    "data1['sentiment'] = data1['Tweet'].apply(lambda tweet: TextBlob(tweet).polarity)\n",
    "data1['sentiment'] = [1 if sc > 0 \n",
    "                      else 0  for sc in data1['sentiment'] ]"
   ]
  },
  {
   "cell_type": "code",
   "execution_count": 375,
   "metadata": {},
   "outputs": [],
   "source": [
    "# SPLITTING TRAIN AND TEST DATA\n",
    "y = data1.sentiment\n",
    "x = data1.drop('sentiment',axis=1)\n",
    "x_train,x_test,y_train,y_test=train_test_split(x,y,test_size=0.2)\n",
    "x_train = x_train.drop('Datetime',axis = 1)\n",
    "x_test = x_test.drop('Datetime',axis = 1)\n"
   ]
  },
  {
   "cell_type": "code",
   "execution_count": 376,
   "metadata": {},
   "outputs": [],
   "source": [
    "data1.to_csv('Final_data_sentiment.csv')"
   ]
  },
  {
   "cell_type": "code",
   "execution_count": 377,
   "metadata": {},
   "outputs": [],
   "source": [
    "data2 = pd.read_csv('Final_data_sentiment.csv')"
   ]
  },
  {
   "cell_type": "code",
   "execution_count": 378,
   "metadata": {},
   "outputs": [],
   "source": [
    "#CONVERSION TO DATAFRAMES FOR OUR CONVENIENCE\n",
    "y_train = pd.DataFrame(y_train)\n",
    "y_test = pd.DataFrame(y_test)"
   ]
  },
  {
   "cell_type": "code",
   "execution_count": 379,
   "metadata": {},
   "outputs": [],
   "source": [
    "#VADER IMPLEMENTATION\n",
    "analyzer = SentimentIntensityAnalyzer()\n",
    "\n",
    "def text_sentiment_vader(text):\n",
    "    vs = analyzer.polarity_scores(text)\n",
    "    return int(vs.get(\"compound\")>0)\n",
    " \n",
    "predictions = x_test.Tweet.map(lambda x : text_sentiment_vader(x))"
   ]
  },
  {
   "cell_type": "code",
   "execution_count": 380,
   "metadata": {},
   "outputs": [],
   "source": [
    "predictions1 = pd.DataFrame(predictions)"
   ]
  },
  {
   "cell_type": "code",
   "execution_count": 381,
   "metadata": {},
   "outputs": [],
   "source": [
    "targets = y_test.sentiment"
   ]
  },
  {
   "cell_type": "code",
   "execution_count": 382,
   "metadata": {},
   "outputs": [
    {
     "data": {
      "text/plain": [
       "0.7009752438109528"
      ]
     },
     "execution_count": 382,
     "metadata": {},
     "output_type": "execute_result"
    }
   ],
   "source": [
    "accuracy_score(predictions.values,targets)"
   ]
  },
  {
   "cell_type": "code",
   "execution_count": 383,
   "metadata": {},
   "outputs": [],
   "source": [
    "#AFINN IMPLEMENTATION\n",
    "afn = Afinn()\n",
    "  \n",
    "#creating list sentences\n",
    "tw_data = list(x_test['Tweet'])\n",
    "# compute scores (polarity) and labels\n",
    "scores = [afn.score(article) for article in tw_data]\n",
    "sentiment = [1 if score > 0 \n",
    "                          else 0 for score in scores]"
   ]
  },
  {
   "cell_type": "code",
   "execution_count": 384,
   "metadata": {},
   "outputs": [
    {
     "data": {
      "text/plain": [
       "0.691772943235809"
      ]
     },
     "execution_count": 384,
     "metadata": {},
     "output_type": "execute_result"
    }
   ],
   "source": [
    "accuracy_score(sentiment,y_test)"
   ]
  },
  {
   "cell_type": "code",
   "execution_count": 386,
   "metadata": {},
   "outputs": [
    {
     "data": {
      "image/png": "[encoded data removed]",
      "text/plain": [
       "<Figure size 432x288 with 1 Axes>"
      ]
     },
     "metadata": {},
     "output_type": "display_data"
    }
   ],
   "source": [
    "# PLOT BETWEEN USERS HAVING MORE FRIENDS AND LIKE COUNT.\n",
    "sns.set(style=\"whitegrid\", color_codes=True)\n",
    "data_new1 = data_new1.head(15)\n",
    "d = data_new1.groupby(\"sentiment\").size()   # data underlying bar plot in question\n",
    "\n",
    "pal = sns.color_palette(\"Greens_d\", len(data_new1))\n",
    "rank = data_new1.friends.argsort()   \n",
    "sns.barplot(y=data_new1.Username, x=data_new1.likes_count, palette=np.array(pal[::-1])[rank])\n",
    "\n",
    "plt.show()"
   ]
  }
 ],
 "metadata": {
  "kernelspec": {
   "display_name": "Python 3",
   "language": "python",
   "name": "python3"
  },
  "language_info": {
   "codemirror_mode": {
    "name": "ipython",
    "version": 3
   },
   "file_extension": ".py",
   "mimetype": "text/x-python",
   "name": "python",
   "nbconvert_exporter": "python",
   "pygments_lexer": "ipython3",
   "version": "3.8.5"
  }
 },
 "nbformat": 4,
 "nbformat_minor": 4
}
